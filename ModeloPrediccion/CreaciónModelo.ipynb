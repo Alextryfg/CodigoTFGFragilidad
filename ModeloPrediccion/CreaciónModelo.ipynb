{
 "cells": [
  {
   "cell_type": "code",
   "execution_count": 88,
   "id": "b4a5f79f-a6fc-4c9f-b61e-ab3953c6893a",
   "metadata": {},
   "outputs": [],
   "source": [
    "import os\n",
    "import numpy as np \n",
    "import pandas as pd \n",
    "import warnings\n",
    "import seaborn as sns\n",
    "import matplotlib.pyplot as plt\n",
    "import plotly.express as px\n",
    "warnings.filterwarnings(\"ignore\")\n",
    "pd.set_option(\"display.max_rows\",None)\n",
    "from sklearn import preprocessing\n",
    "import matplotlib \n",
    "matplotlib.style.use('ggplot')\n",
    "from sklearn.preprocessing import LabelEncoder\n",
    "from sklearn.model_selection import train_test_split\n",
    "from sklearn.linear_model import LinearRegression\n",
    "from sklearn.neighbors import KNeighborsClassifier\n",
    "from sklearn.metrics import r2_score\n",
    "from sklearn.metrics import mean_squared_error\n",
    "from sklearn.metrics import accuracy_score\n",
    "from sklearn.metrics import precision_score\n",
    "from sklearn.metrics import recall_score\n",
    "from sklearn.metrics import confusion_matrix\n",
    "from sklearn.preprocessing import StandardScaler\n",
    "from sklearn.naive_bayes import BernoulliNB\n",
    "from sklearn.tree import DecisionTreeClassifier\n",
    "import chardet\n"
   ]
  },
  {
   "cell_type": "code",
   "execution_count": 19,
   "id": "038526af-5132-4fe1-996f-68c96eb557c3",
   "metadata": {},
   "outputs": [],
   "source": [
    "# Detectar la codificación del archivo\n",
    "with open(\"DatosEjemplo.csv\", 'rb') as f:\n",
    "    result = chardet.detect(f.read())"
   ]
  },
  {
   "cell_type": "code",
   "execution_count": 20,
   "id": "44838892-4fec-48cf-acaf-1982b3912a72",
   "metadata": {},
   "outputs": [
    {
     "name": "stdout",
     "output_type": "stream",
     "text": [
      "Archivo cargado exitosamente.\n"
     ]
    }
   ],
   "source": [
    "# Utilizar la codificación detectada para leer el archivo\n",
    "try:\n",
    "    df = pd.read_csv(\"DatosEjemplo.csv\", encoding=result['encoding'],  sep=';', decimal=',')\n",
    "    print(\"Archivo cargado exitosamente.\")\n",
    "except Exception as e:\n",
    "    print(f\"Error al cargar el archivo: {e}\")"
   ]
  },
  {
   "cell_type": "code",
   "execution_count": 21,
   "id": "81f8c5a1-3d87-4aa9-bc6d-97065872427c",
   "metadata": {},
   "outputs": [],
   "source": [
    "# Convertir las columnas de tipo object a string\n",
    "#string_col = df.select_dtypes(include=\"object\").columns\n",
    "#df[string_col]=df[string_col].astype(\"string\")"
   ]
  },
  {
   "cell_type": "code",
   "execution_count": 22,
   "id": "f55b02f9-cb0b-4dd9-a7b5-56cc37a575d9",
   "metadata": {},
   "outputs": [],
   "source": [
    "df = df.drop(['Paciente'], axis=1)\n",
    "string_col=df.select_dtypes(\"object\").columns.to_list()"
   ]
  },
  {
   "cell_type": "code",
   "execution_count": 23,
   "id": "85ffd935-a41f-462c-a750-8d61a2fad1a8",
   "metadata": {},
   "outputs": [
    {
     "name": "stdout",
     "output_type": "stream",
     "text": [
      "The distribution of categorical valeus in the Género is : \n",
      "Género\n",
      "F    118\n",
      "M     45\n",
      "Name: count, dtype: int64\n"
     ]
    }
   ],
   "source": [
    "df[string_col].head()\n",
    "for col in string_col:\n",
    "    print(f\"The distribution of categorical valeus in the {col} is : \")\n",
    "    print(df[col].value_counts())"
   ]
  },
  {
   "cell_type": "code",
   "execution_count": 24,
   "id": "10e20a1a-eb20-4b0a-adbd-88c4813abc2d",
   "metadata": {},
   "outputs": [
    {
     "data": {
      "text/html": [
       "<div>\n",
       "<style scoped>\n",
       "    .dataframe tbody tr th:only-of-type {\n",
       "        vertical-align: middle;\n",
       "    }\n",
       "\n",
       "    .dataframe tbody tr th {\n",
       "        vertical-align: top;\n",
       "    }\n",
       "\n",
       "    .dataframe thead th {\n",
       "        text-align: right;\n",
       "    }\n",
       "</style>\n",
       "<table border=\"1\" class=\"dataframe\">\n",
       "  <thead>\n",
       "    <tr style=\"text-align: right;\">\n",
       "      <th></th>\n",
       "      <th>Edad (años)</th>\n",
       "      <th>Género</th>\n",
       "      <th>Altura (cm)</th>\n",
       "      <th>Peso (Kg)</th>\n",
       "      <th>Indice de Masa Corporal</th>\n",
       "      <th>Velocidad marcha (m/s)</th>\n",
       "      <th>Fragilidad</th>\n",
       "    </tr>\n",
       "  </thead>\n",
       "  <tbody>\n",
       "    <tr>\n",
       "      <th>0</th>\n",
       "      <td>82</td>\n",
       "      <td>0</td>\n",
       "      <td>1.62</td>\n",
       "      <td>59.0</td>\n",
       "      <td>22.48</td>\n",
       "      <td>1.42</td>\n",
       "      <td>0</td>\n",
       "    </tr>\n",
       "    <tr>\n",
       "      <th>1</th>\n",
       "      <td>82</td>\n",
       "      <td>1</td>\n",
       "      <td>1.70</td>\n",
       "      <td>67.0</td>\n",
       "      <td>23.18</td>\n",
       "      <td>0.93</td>\n",
       "      <td>0</td>\n",
       "    </tr>\n",
       "    <tr>\n",
       "      <th>2</th>\n",
       "      <td>77</td>\n",
       "      <td>0</td>\n",
       "      <td>1.71</td>\n",
       "      <td>68.0</td>\n",
       "      <td>23.26</td>\n",
       "      <td>0.83</td>\n",
       "      <td>0</td>\n",
       "    </tr>\n",
       "    <tr>\n",
       "      <th>3</th>\n",
       "      <td>82</td>\n",
       "      <td>1</td>\n",
       "      <td>1.60</td>\n",
       "      <td>52.0</td>\n",
       "      <td>20.31</td>\n",
       "      <td>0.74</td>\n",
       "      <td>0</td>\n",
       "    </tr>\n",
       "    <tr>\n",
       "      <th>4</th>\n",
       "      <td>97</td>\n",
       "      <td>1</td>\n",
       "      <td>1.70</td>\n",
       "      <td>93.0</td>\n",
       "      <td>32.18</td>\n",
       "      <td>0.64</td>\n",
       "      <td>0</td>\n",
       "    </tr>\n",
       "  </tbody>\n",
       "</table>\n",
       "</div>"
      ],
      "text/plain": [
       "   Edad (años)  Género  Altura (cm)  Peso (Kg)  Indice de Masa Corporal  \\\n",
       "0           82       0         1.62       59.0                    22.48   \n",
       "1           82       1         1.70       67.0                    23.18   \n",
       "2           77       0         1.71       68.0                    23.26   \n",
       "3           82       1         1.60       52.0                    20.31   \n",
       "4           97       1         1.70       93.0                    32.18   \n",
       "\n",
       "   Velocidad marcha (m/s)  Fragilidad  \n",
       "0                    1.42           0  \n",
       "1                    0.93           0  \n",
       "2                    0.83           0  \n",
       "3                    0.74           0  \n",
       "4                    0.64           0  "
      ]
     },
     "execution_count": 24,
     "metadata": {},
     "output_type": "execute_result"
    }
   ],
   "source": [
    "#Aqui intentamos pasar el genero de cualitativo a cuantitativo\n",
    "# Applying the condition\n",
    "df.loc[df[\"Género\"] == \"M\", \"Género\"] = 1\n",
    "df[\"Género\"] = np.where(df[\"Género\"] == \"F\", 0, 1)\n",
    "df.head()"
   ]
  },
  {
   "cell_type": "code",
   "execution_count": 66,
   "id": "e3d37dc3-9937-43a2-b525-58fa5fcb04ee",
   "metadata": {},
   "outputs": [],
   "source": [
    "x = df.drop(\"Fragilidad\", axis =1) #Variables independientes\n",
    "y = df[\"Fragilidad\"] #Varaibkle dependiente"
   ]
  },
  {
   "cell_type": "code",
   "execution_count": 67,
   "id": "a14f4305-c418-4466-8c66-f1170da9c6e9",
   "metadata": {},
   "outputs": [],
   "source": [
    "#Normalizamos los datos\n",
    "norm = StandardScaler()\n",
    "x_normalizado = norm.fit_transform(x)"
   ]
  },
  {
   "cell_type": "code",
   "execution_count": 68,
   "id": "b93f0535-0fa6-4e4f-991c-c21be0e5013b",
   "metadata": {},
   "outputs": [],
   "source": [
    "#Divido los datos en conjuntos de entrenamiento y prueba\n",
    "x_train, x_test, y_train, y_test = train_test_split(x_normalizado,y,test_size=0.3,random_state=1)\n",
    "\n",
    "#Creo el modelo de KNN\n",
    "knn = KNeighborsClassifier(metric = 'euclidean')\n",
    "#Ajusto el modelo a los datos de entrenamiento\n",
    "knn.fit(x_train, y_train)\n",
    "\n",
    "# Hago predicciones sobre los datos de prueba\n",
    "y_pred_knn = knn.predict(x_test)"
   ]
  },
  {
   "cell_type": "code",
   "execution_count": 69,
   "id": "4de98940-24ff-438b-9365-9d418f3f2dc0",
   "metadata": {},
   "outputs": [
    {
     "data": {
      "text/plain": [
       "array([0, 0, 0, 0, 0, 0, 0, 0, 0, 0, 0, 0, 0, 0, 0, 0, 0, 0, 0, 0, 0, 0,\n",
       "       0, 0, 0, 0, 0, 0, 0, 0, 0, 0, 0, 0, 0, 0, 0, 1, 0, 1, 0, 0, 0, 0,\n",
       "       0, 0, 0, 0, 0], dtype=int64)"
      ]
     },
     "execution_count": 69,
     "metadata": {},
     "output_type": "execute_result"
    }
   ],
   "source": [
    "y_pred_knn"
   ]
  },
  {
   "cell_type": "code",
   "execution_count": 80,
   "id": "238cb4f5-e2c9-424c-9ff9-05985b387023",
   "metadata": {},
   "outputs": [
    {
     "name": "stdout",
     "output_type": "stream",
     "text": [
      "[[35  0]\n",
      " [12  2]]\n"
     ]
    }
   ],
   "source": [
    "#Matriz de confusion, cuyo resultado nos da que tenemos varios falsos positivos y algunos verdaderos negativos pero ningun falso negativo (buenas noticias)\n",
    "print(confusion_matrix(y_test,y_pred_knn))"
   ]
  },
  {
   "cell_type": "code",
   "execution_count": 76,
   "id": "c6305f60-badf-4a91-965b-677f78acd262",
   "metadata": {},
   "outputs": [
    {
     "name": "stdout",
     "output_type": "stream",
     "text": [
      "0.7551020408163265\n",
      "1.0\n",
      "0.14285714285714285\n"
     ]
    }
   ],
   "source": [
    "#Caluculamos el acurracy que da lo precision de verdaderos positivos y verdaderos negativos\n",
    "print(accuracy_score(y_test,y_pred_knn))\n",
    "#Caluclamos el precision que da el numero de verdaderos positivos respecto al total de datos teniendo en cuenta solo los verdaderos positivos\n",
    "print(precision_score(y_test,y_pred_knn))\n",
    "#Calcula la sensibilidad, es decir, que tan bueno es el modelo para clasificar correctamente un resultado considerando tambien los falsos negativos\n",
    "print(recall_score(y_test,y_pred_knn))"
   ]
  },
  {
   "cell_type": "code",
   "execution_count": 84,
   "id": "ca6be14b-3659-4b3c-81a7-caad1e7ec1ae",
   "metadata": {},
   "outputs": [],
   "source": [
    "#Ahora con el Modelo Bernoulli Naive Bayes"
   ]
  },
  {
   "cell_type": "code",
   "execution_count": 85,
   "id": "11d66d83-6b39-421e-b66a-6abc97cf6e2e",
   "metadata": {},
   "outputs": [],
   "source": [
    "# Calculo la mediana de los datos de entrenamiento\n",
    "mediana = np.median(x_train)\n",
    "\n",
    "# Binarizando los datos de entrenamiento usando la mediana\n",
    "X_train_binarizado = np.where(x_train > mediana, 1, 0)\n",
    "\n",
    "# Binarizando los datos de prueba usando la mediana de los datos de entrenamiento\n",
    "X_test_binarizado = np.where(x_test > mediana, 1, 0)\n",
    "\n",
    "# Creo el modelo\n",
    "bnb = BernoulliNB()\n",
    "\n",
    "# Entreno el modelo\n",
    "bnb.fit(X_train_binarizado, y_train)\n",
    "\n",
    "# Predicción\n",
    "prediccion_BNb = bnb.predict(X_test_binarizado)"
   ]
  },
  {
   "cell_type": "code",
   "execution_count": 87,
   "id": "77a74d10-6341-44f0-a975-e09ae9f45f39",
   "metadata": {},
   "outputs": [
    {
     "name": "stdout",
     "output_type": "stream",
     "text": [
      "[[35  0]\n",
      " [14  0]]\n"
     ]
    }
   ],
   "source": [
    "#Matriz de confusion, cuyo resultado nos da que tenemos varios falsos positivos y algunos verdaderos negativos pero ningun falso negativo (buenas noticias)\n",
    "print(confusion_matrix(y_test,prediccion_BNb))"
   ]
  },
  {
   "cell_type": "code",
   "execution_count": 86,
   "id": "7e6f0837-c93b-43fc-8ca9-5105d04173dd",
   "metadata": {},
   "outputs": [
    {
     "name": "stdout",
     "output_type": "stream",
     "text": [
      "0.7142857142857143\n",
      "0.0\n",
      "0.0\n"
     ]
    }
   ],
   "source": [
    "#Caluculamos el acurracy que da lo precision de verdaderos positivos y verdaderos negativos\n",
    "print(accuracy_score(y_test,prediccion_BNb))\n",
    "#Caluclamos el precision que da el numero de verdaderos positivos respecto al total de datos teniendo en cuenta solo los verdaderos positivos\n",
    "print(precision_score(y_test,prediccion_BNb))\n",
    "#Calcula la sensibilidad, es decir, que tan bueno es el modelo para clasificar correctamente un resultado considerando tambien los falsos negativos\n",
    "print(recall_score(y_test,prediccion_BNb))"
   ]
  },
  {
   "cell_type": "code",
   "execution_count": 89,
   "id": "d9c2266c-d647-4e83-a399-e2ba1ebcf196",
   "metadata": {},
   "outputs": [],
   "source": [
    "#Metodo Simbolico"
   ]
  },
  {
   "cell_type": "code",
   "execution_count": 90,
   "id": "20bbe716-980d-453b-9bd6-e5f580c70d2c",
   "metadata": {},
   "outputs": [],
   "source": [
    "#iniciando el modelo\n",
    "dtc = DecisionTreeClassifier(criterion='entropy', random_state=42)\n",
    "#entrenando el modelo\n",
    "dtc.fit(x_train, y_train)\n",
    "#verificando la importancia de cada atributo\n",
    "dtc.feature_importances_\n",
    "prediccion_ArbolDecision = dtc.predict(x_test)"
   ]
  },
  {
   "cell_type": "code",
   "execution_count": 92,
   "id": "a06e61a5-329b-4f73-9923-bf0826cfce61",
   "metadata": {},
   "outputs": [
    {
     "name": "stdout",
     "output_type": "stream",
     "text": [
      "[[27  8]\n",
      " [11  3]]\n"
     ]
    }
   ],
   "source": [
    "#Matriz de confusion, cuyo resultado nos da que tenemos varios falsos positivos y algunos verdaderos negativos pero ningun falso negativo (buenas noticias)\n",
    "print(confusion_matrix(y_test,prediccion_ArbolDecision))"
   ]
  },
  {
   "cell_type": "code",
   "execution_count": 91,
   "id": "8966f7dc-fda5-4fbe-b44b-579dc89b99c2",
   "metadata": {},
   "outputs": [
    {
     "name": "stdout",
     "output_type": "stream",
     "text": [
      "0.6122448979591837\n",
      "0.2727272727272727\n",
      "0.21428571428571427\n"
     ]
    }
   ],
   "source": [
    "#Caluculamos el acurracy que da lo precision de verdaderos positivos y verdaderos negativos\n",
    "print(accuracy_score(y_test,prediccion_ArbolDecision))\n",
    "#Caluclamos el precision que da el numero de verdaderos positivos respecto al total de datos teniendo en cuenta solo los verdaderos positivos\n",
    "print(precision_score(y_test,prediccion_ArbolDecision))\n",
    "#Calcula la sensibilidad, es decir, que tan bueno es el modelo para clasificar correctamente un resultado considerando tambien los falsos negativos\n",
    "print(recall_score(y_test,prediccion_ArbolDecision))"
   ]
  },
  {
   "cell_type": "code",
   "execution_count": null,
   "id": "cea95f0f-e856-4285-bb81-9e277d3fbc1e",
   "metadata": {},
   "outputs": [],
   "source": [
    "#Evidentemente existen numerosos hiperparametros que se podrian modificar para obtener mejores preciones\n",
    "#en nuestro modelo, sin embargo, en este caso realizaremos simplemente un analisis superficial para mostrar\n",
    "#el potencial del mismo."
   ]
  }
 ],
 "metadata": {
  "kernelspec": {
   "display_name": "Python 3 (ipykernel)",
   "language": "python",
   "name": "python3"
  },
  "language_info": {
   "codemirror_mode": {
    "name": "ipython",
    "version": 3
   },
   "file_extension": ".py",
   "mimetype": "text/x-python",
   "name": "python",
   "nbconvert_exporter": "python",
   "pygments_lexer": "ipython3",
   "version": "3.11.7"
  }
 },
 "nbformat": 4,
 "nbformat_minor": 5
}
