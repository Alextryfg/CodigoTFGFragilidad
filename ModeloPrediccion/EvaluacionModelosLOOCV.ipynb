{
 "cells": [
  {
   "cell_type": "code",
   "execution_count": 76,
   "id": "044b3707-8623-4d59-9e78-218d82c808c2",
   "metadata": {},
   "outputs": [
    {
     "name": "stdout",
     "output_type": "stream",
     "text": [
      "Archivo cargado exitosamente.\n"
     ]
    }
   ],
   "source": [
    "import pandas as pd\n",
    "import numpy as np\n",
    "from sklearn.model_selection import LeaveOneOut\n",
    "from sklearn.metrics import accuracy_score, precision_score, recall_score\n",
    "from sklearn.neighbors import KNeighborsClassifier\n",
    "from sklearn.linear_model import LogisticRegression\n",
    "from sklearn.tree import DecisionTreeClassifier\n",
    "from sklearn.naive_bayes import BernoulliNB\n",
    "\n",
    "# Detectar la codificación del archivo\n",
    "with open(\"DatosEjemplo.csv\", 'rb') as f:\n",
    "    result = chardet.detect(f.read())\n",
    "\n",
    "# Utilizar la codificación detectada para leer el archivo\n",
    "try:\n",
    "    df = pd.read_csv(\"DatosEjemplo.csv\", encoding=result['encoding'], sep=';', decimal=',')\n",
    "    print(\"Archivo cargado exitosamente.\")\n",
    "except Exception as e:\n",
    "    print(f\"Error al cargar el archivo: {e}\")\n",
    "\n",
    "# Eliminar la columna 'Paciente'\n",
    "df = df.drop(['Paciente'], axis=1)\n",
    "\n",
    "# Identificar las columnas de tipo 'object'\n",
    "string_col = df.select_dtypes(\"object\").columns.to_list()\n",
    "\n",
    "# Convertir la columna 'Género' de cualitativa a cuantitativa\n",
    "df['Género'] = df['Género'].apply(lambda x: 1 if x == 'M' else 0)\n",
    "\n",
    "# Variables independientes (X) y dependientes (Y)\n",
    "X = df.drop(\"Fragilidad\", axis=1)\n",
    "Y = df[\"Fragilidad\"]"
   ]
  },
  {
   "cell_type": "code",
   "execution_count": 77,
   "id": "464b6a96-c9fd-4ba4-8ad8-23b7e7195be8",
   "metadata": {},
   "outputs": [
    {
     "name": "stdout",
     "output_type": "stream",
     "text": [
      "Resultados para KNN:\n",
      "Precisión (Accuracy): 0.6810\n",
      "\n",
      "\n",
      "Resultados para BernoulliNB:\n",
      "Precisión (Accuracy): 0.7546\n",
      "\n",
      "\n",
      "Resultados para Decision Tree:\n",
      "Precisión (Accuracy): 0.6074\n",
      "\n",
      "\n"
     ]
    }
   ],
   "source": [
    "# Inicializar los modelos\n",
    "models = {\n",
    "    \"KNN\": KNeighborsClassifier(),\n",
    "    \"BernoulliNB\": BernoulliNB(),\n",
    "    \"Decision Tree\": DecisionTreeClassifier()\n",
    "}\n",
    "\n",
    "# Inicializar Leave-One-Out cross-validator\n",
    "loo = LeaveOneOut()\n",
    "\n",
    "# Evaluar cada modelo\n",
    "for model_name, model in models.items():\n",
    "    y_true, y_pred = [], []\n",
    "    \n",
    "    for train_index, test_index in loo.split(X):\n",
    "        X_train, X_test = X.iloc[train_index], X.iloc[test_index]\n",
    "        Y_train, Y_test = Y.iloc[train_index], Y.iloc[test_index]\n",
    "        \n",
    "        # Ajustar el modelo\n",
    "        model.fit(X_train, Y_train)\n",
    "        \n",
    "        # Predecir el valor para el punto de prueba\n",
    "        y_pred.append(model.predict(X_test)[0])\n",
    "        y_true.append(Y_test.values[0])\n",
    "    \n",
    "    # Calcular las métricas de evaluación\n",
    "    accuracy = accuracy_score(y_true, y_pred)\n",
    "    precision = precision_score(y_true, y_pred)\n",
    "    recall = recall_score(y_true, y_pred)\n",
    "    \n",
    "    print(f\"Resultados para {model_name}:\")\n",
    "    print(f\"Precisión (Accuracy): {accuracy:.4f}\")\n",
    "    print(\"\\n\")"
   ]
  },
  {
   "cell_type": "code",
   "execution_count": null,
   "id": "fdb49193-f64d-4755-a274-8e9065e8dd9d",
   "metadata": {},
   "outputs": [],
   "source": []
  },
  {
   "cell_type": "code",
   "execution_count": null,
   "id": "0bb81e6f-d114-41c4-bc16-d507c1dcc63c",
   "metadata": {},
   "outputs": [],
   "source": []
  }
 ],
 "metadata": {
  "kernelspec": {
   "display_name": "Python 3 (ipykernel)",
   "language": "python",
   "name": "python3"
  },
  "language_info": {
   "codemirror_mode": {
    "name": "ipython",
    "version": 3
   },
   "file_extension": ".py",
   "mimetype": "text/x-python",
   "name": "python",
   "nbconvert_exporter": "python",
   "pygments_lexer": "ipython3",
   "version": "3.11.7"
  }
 },
 "nbformat": 4,
 "nbformat_minor": 5
}
